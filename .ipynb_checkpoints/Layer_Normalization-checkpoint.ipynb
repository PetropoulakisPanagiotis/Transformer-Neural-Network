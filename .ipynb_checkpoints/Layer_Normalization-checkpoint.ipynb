{
 "cells": [
  {
   "cell_type": "code",
   "execution_count": 1,
   "metadata": {
    "id": "yauMbbQbJ5Jk"
   },
   "outputs": [],
   "source": [
    "import torch\n",
    "from torch import nn"
   ]
  },
  {
   "cell_type": "code",
   "execution_count": 5,
   "metadata": {
    "colab": {
     "base_uri": "https://localhost:8080/"
    },
    "id": "TL65EVE_J7KO",
    "outputId": "0d0ecb69-bc6b-4c26-91ea-15647d304287"
   },
   "outputs": [
    {
     "data": {
      "text/plain": [
       "torch.Size([2, 1, 3])"
      ]
     },
     "execution_count": 5,
     "metadata": {},
     "output_type": "execute_result"
    }
   ],
   "source": [
    "inputs = torch.Tensor([[[0.2, 0.1, 0.3], [0.5, 0.1, 0.1]]])\n",
    "B, S, E = inputs.size()\n",
    "inputs = inputs.reshape(S, B, E)\n",
    "inputs.size()"
   ]
  },
  {
   "cell_type": "code",
   "execution_count": 11,
   "metadata": {
    "id": "--zvWWq2KLl1"
   },
   "outputs": [],
   "source": [
    "parameter_shape = inputs.size()[-2:]\n",
    "gamma = nn.Parameter(torch.ones(parameter_shape))\n",
    "beta =  nn.Parameter(torch.zeros(parameter_shape))"
   ]
  },
  {
   "cell_type": "code",
   "execution_count": 12,
   "metadata": {
    "colab": {
     "base_uri": "https://localhost:8080/"
    },
    "id": "YAhmuOruKYzO",
    "outputId": "755d29b3-cfcf-42d0-ccce-6ffb09efd696"
   },
   "outputs": [
    {
     "data": {
      "text/plain": [
       "(torch.Size([1, 3]), torch.Size([1, 3]))"
      ]
     },
     "execution_count": 12,
     "metadata": {},
     "output_type": "execute_result"
    }
   ],
   "source": [
    "gamma.size(), beta.size() # For batch "
   ]
  },
  {
   "cell_type": "code",
   "execution_count": 13,
   "metadata": {
    "id": "85ajY22cJ5Bg"
   },
   "outputs": [],
   "source": [
    "dims = [-(i + 1) for i in range(len(parameter_shape))] # Batch + layer "
   ]
  },
  {
   "cell_type": "code",
   "execution_count": 14,
   "metadata": {
    "colab": {
     "base_uri": "https://localhost:8080/"
    },
    "id": "APG-ccQ1J4zc",
    "outputId": "5c2ad65e-9740-42b5-bfd2-dfa7ed3fc24a"
   },
   "outputs": [
    {
     "data": {
      "text/plain": [
       "[-1, -2]"
      ]
     },
     "execution_count": 14,
     "metadata": {},
     "output_type": "execute_result"
    }
   ],
   "source": [
    "dims"
   ]
  },
  {
   "cell_type": "code",
   "execution_count": 15,
   "metadata": {
    "colab": {
     "base_uri": "https://localhost:8080/"
    },
    "id": "Py8DHV7AMX6y",
    "outputId": "a897c5fc-a53c-497e-faae-c1c6cee49098"
   },
   "outputs": [
    {
     "data": {
      "text/plain": [
       "torch.Size([2, 1, 1])"
      ]
     },
     "execution_count": 15,
     "metadata": {},
     "output_type": "execute_result"
    }
   ],
   "source": [
    "mean = inputs.mean(dim=dims, keepdim=True)\n",
    "mean.size()"
   ]
  },
  {
   "cell_type": "code",
   "execution_count": 16,
   "metadata": {
    "colab": {
     "base_uri": "https://localhost:8080/"
    },
    "id": "P4w9NIUPQRj-",
    "outputId": "97fca7ec-f26b-4429-ff4c-197ac2c5d970"
   },
   "outputs": [
    {
     "data": {
      "text/plain": [
       "tensor([[[0.2000]],\n",
       "\n",
       "        [[0.2333]]])"
      ]
     },
     "execution_count": 16,
     "metadata": {},
     "output_type": "execute_result"
    }
   ],
   "source": [
    "mean"
   ]
  },
  {
   "cell_type": "code",
   "execution_count": 17,
   "metadata": {
    "colab": {
     "base_uri": "https://localhost:8080/"
    },
    "id": "1lEkVVi3M_8_",
    "outputId": "f4e2a32b-d5ed-4622-8923-eb380d5b5bfc"
   },
   "outputs": [
    {
     "data": {
      "text/plain": [
       "tensor([[[0.0817]],\n",
       "\n",
       "        [[0.1886]]])"
      ]
     },
     "execution_count": 17,
     "metadata": {},
     "output_type": "execute_result"
    }
   ],
   "source": [
    "var = ((inputs - mean) ** 2).mean(dim=dims, keepdim=True)\n",
    "epsilon = 1e-5\n",
    "std = (var + epsilon).sqrt()\n",
    "std"
   ]
  },
  {
   "cell_type": "code",
   "execution_count": 18,
   "metadata": {
    "colab": {
     "base_uri": "https://localhost:8080/"
    },
    "id": "rRokYqlDN6yJ",
    "outputId": "f6dcbaf3-ad33-4d9f-e0ec-039e49424e4a"
   },
   "outputs": [
    {
     "data": {
      "text/plain": [
       "tensor([[[ 0.0000, -1.2238,  1.2238]],\n",
       "\n",
       "        [[ 1.4140, -0.7070, -0.7070]]])"
      ]
     },
     "execution_count": 18,
     "metadata": {},
     "output_type": "execute_result"
    }
   ],
   "source": [
    "y = (inputs - mean) / std\n",
    "y"
   ]
  },
  {
   "cell_type": "code",
   "execution_count": 19,
   "metadata": {
    "id": "7cc8NMZVN_sQ"
   },
   "outputs": [],
   "source": [
    "out = gamma * y + beta"
   ]
  },
  {
   "cell_type": "code",
   "execution_count": 20,
   "metadata": {
    "colab": {
     "base_uri": "https://localhost:8080/"
    },
    "id": "YquX9ABbOLKy",
    "outputId": "1bc33d96-e9e5-4a5d-e3cc-4cb9c89cea22"
   },
   "outputs": [
    {
     "data": {
      "text/plain": [
       "tensor([[[ 0.0000, -1.2238,  1.2238]],\n",
       "\n",
       "        [[ 1.4140, -0.7070, -0.7070]]], grad_fn=<AddBackward0>)"
      ]
     },
     "execution_count": 20,
     "metadata": {},
     "output_type": "execute_result"
    }
   ],
   "source": [
    "out"
   ]
  },
  {
   "cell_type": "markdown",
   "metadata": {
    "id": "BO4x-axkv9j8"
   },
   "source": [
    "## Class"
   ]
  },
  {
   "cell_type": "code",
   "execution_count": 24,
   "metadata": {
    "id": "MYJ2AE7Sv-Wc"
   },
   "outputs": [],
   "source": [
    "import torch\n",
    "from torch import nn\n",
    "\n",
    "class LayerNormalization():\n",
    "    def __init__(self, parameters_shape, eps=1e-5):\n",
    "        self.parameters_shape=parameters_shape\n",
    "        self.eps=eps\n",
    "        self.gamma = nn.Parameter(torch.ones(parameters_shape))\n",
    "        self.beta =  nn.Parameter(torch.zeros(parameters_shape))\n",
    "\n",
    "    def forward(self, input):\n",
    "        dims = [-(i + 1) for i in range(len(self.parameters_shape))]\n",
    "        mean = inputs.mean(dim=dims, keepdim=True)\n",
    "        print(f\"Mean \\n ({mean.size()}): \\n {mean}\")\n",
    "        var = ((inputs - mean) ** 2).mean(dim=dims, keepdim=True)\n",
    "        std = (var + self.eps).sqrt()\n",
    "        print(f\"Standard Deviation \\n ({std.size()}): \\n {std}\")\n",
    "        y = (inputs - mean) / std\n",
    "        print(f\"y \\n ({y.size()}) = \\n {y}\")\n",
    "        out = self.gamma * y  + self.beta\n",
    "        print(f\"out \\n ({out.size()}) = \\n {out}\")\n",
    "        return out"
   ]
  },
  {
   "cell_type": "code",
   "execution_count": 25,
   "metadata": {
    "colab": {
     "base_uri": "https://localhost:8080/"
    },
    "id": "zrnZx0HYyoRz",
    "outputId": "7d894aa6-6181-4597-b160-a932fc274d70"
   },
   "outputs": [
    {
     "name": "stdout",
     "output_type": "stream",
     "text": [
      "input \n",
      " (torch.Size([5, 3, 8])) = \n",
      " tensor([[[-0.4488, -1.0678,  1.0113, -0.2998,  0.1561, -0.2554, -0.7329,\n",
      "           2.2027],\n",
      "         [ 0.5831, -0.5719,  0.7693, -0.7760, -0.4094,  0.1170,  0.9339,\n",
      "           0.5682],\n",
      "         [ 0.3259, -0.7332, -0.5762,  0.0039, -0.3591, -0.2478, -0.9618,\n",
      "          -0.5951]],\n",
      "\n",
      "        [[ 0.3982,  1.2086,  2.1620,  0.3764, -0.0401, -0.1729,  1.9406,\n",
      "          -1.3515],\n",
      "         [-0.0076,  0.5875, -1.3514, -2.0623,  0.8407,  0.3298, -1.0934,\n",
      "           0.9744],\n",
      "         [ 0.1474, -0.1491, -0.6619, -0.5229,  0.4628, -0.3913,  0.0224,\n",
      "           0.7849]],\n",
      "\n",
      "        [[-0.6184, -0.8950,  0.3012,  1.0319,  0.8634,  0.5250,  0.8652,\n",
      "          -0.2641],\n",
      "         [ 0.3830, -0.7671, -0.8941, -0.0045, -1.3029,  0.5734,  0.7833,\n",
      "          -0.7207],\n",
      "         [-1.3157,  0.7573,  0.8301, -0.2392,  1.4416, -0.6874, -1.4176,\n",
      "          -0.9247]],\n",
      "\n",
      "        [[ 0.6812,  0.2190,  1.0782,  0.7558,  0.3581,  1.8396, -1.5581,\n",
      "          -0.5959],\n",
      "         [ 0.5889,  0.0339,  1.0134, -1.3333,  0.7266, -0.5599, -0.3341,\n",
      "          -0.2447],\n",
      "         [ 2.3803,  1.8061, -1.0987,  1.3118,  1.0846, -0.1806,  0.9963,\n",
      "           0.9082]],\n",
      "\n",
      "        [[-0.4334, -0.5165,  0.5476,  0.2785, -1.5872, -1.6309, -0.2972,\n",
      "          -0.4136],\n",
      "         [ 0.8621, -0.2548,  0.0642,  0.2518,  0.0529, -0.4334,  0.2942,\n",
      "           0.8729],\n",
      "         [-2.0224,  0.3955,  0.8830,  2.2128, -0.5282, -1.0912,  0.6158,\n",
      "          -0.4832]]])\n"
     ]
    }
   ],
   "source": [
    "batch_size = 3\n",
    "sentence_length = 5\n",
    "embedding_dim = 8 \n",
    "inputs = torch.randn(sentence_length, batch_size, embedding_dim)\n",
    "\n",
    "print(f\"input \\n ({inputs.size()}) = \\n {inputs}\")"
   ]
  },
  {
   "cell_type": "code",
   "execution_count": 26,
   "metadata": {
    "id": "3U3akvkFys68"
   },
   "outputs": [],
   "source": [
    "layer_norm = LayerNormalization(inputs.size()[-1:])"
   ]
  },
  {
   "cell_type": "code",
   "execution_count": 27,
   "metadata": {
    "colab": {
     "base_uri": "https://localhost:8080/"
    },
    "id": "JQ9lt7LUy-g9",
    "outputId": "658ed727-ec37-4eee-fef8-e553cb084e88"
   },
   "outputs": [
    {
     "name": "stdout",
     "output_type": "stream",
     "text": [
      "Mean \n",
      " (torch.Size([5, 3, 1])): \n",
      " tensor([[[ 0.0707],\n",
      "         [ 0.1518],\n",
      "         [-0.3929]],\n",
      "\n",
      "        [[ 0.5651],\n",
      "         [-0.2228],\n",
      "         [-0.0385]],\n",
      "\n",
      "        [[ 0.2262],\n",
      "         [-0.2437],\n",
      "         [-0.1944]],\n",
      "\n",
      "        [[ 0.3472],\n",
      "         [-0.0137],\n",
      "         [ 0.9010]],\n",
      "\n",
      "        [[-0.5066],\n",
      "         [ 0.2137],\n",
      "         [-0.0023]]])\n",
      "Standard Deviation \n",
      " (torch.Size([5, 3, 1])): \n",
      " tensor([[[0.9933],\n",
      "         [0.6178],\n",
      "         [0.3890]],\n",
      "\n",
      "        [[1.0900],\n",
      "         [1.0600],\n",
      "         [0.4647]],\n",
      "\n",
      "        [[0.6864],\n",
      "         [0.7262],\n",
      "         [1.0102]],\n",
      "\n",
      "        [[0.9732],\n",
      "         [0.7215],\n",
      "         [1.0240]],\n",
      "\n",
      "        [[0.7261],\n",
      "         [0.4401],\n",
      "         [1.2250]]])\n",
      "y \n",
      " (torch.Size([5, 3, 8])) = \n",
      " tensor([[[-0.5230, -1.1462,  0.9470, -0.3730,  0.0860, -0.3283, -0.8090,\n",
      "           2.1464],\n",
      "         [ 0.6982, -1.1714,  0.9996, -1.5018, -0.9084, -0.0563,  1.2659,\n",
      "           0.6741],\n",
      "         [ 1.8480, -0.8749, -0.4711,  1.0203,  0.0870,  0.3730, -1.4626,\n",
      "          -0.5197]],\n",
      "\n",
      "        [[-0.1532,  0.5903,  1.4650, -0.1732, -0.5553, -0.6772,  1.2619,\n",
      "          -1.7585],\n",
      "         [ 0.2030,  0.7645, -1.0648, -1.7354,  1.0034,  0.5214, -0.8214,\n",
      "           1.1294],\n",
      "         [ 0.3999, -0.2381, -1.3415, -1.0424,  1.0787, -0.7593,  0.1310,\n",
      "           1.7718]],\n",
      "\n",
      "        [[-1.2303, -1.6334,  0.1093,  1.1738,  0.9284,  0.4354,  0.9310,\n",
      "          -0.7142],\n",
      "         [ 0.8629, -0.7208, -0.8956,  0.3293, -1.4585,  1.1252,  1.4143,\n",
      "          -0.6569],\n",
      "         [-1.1099,  0.9421,  1.0142, -0.0443,  1.6196, -0.4880, -1.2108,\n",
      "          -0.7229]],\n",
      "\n",
      "        [[ 0.3432, -0.1317,  0.7511,  0.4198,  0.0112,  1.5335, -1.9579,\n",
      "          -0.9692],\n",
      "         [ 0.8352,  0.0659,  1.4236, -1.8291,  1.0261, -0.7572, -0.4442,\n",
      "          -0.3202],\n",
      "         [ 1.4447,  0.8839, -1.9529,  0.4012,  0.1793, -1.0563,  0.0931,\n",
      "           0.0071]],\n",
      "\n",
      "        [[ 0.1007, -0.0136,  1.4519,  1.0813, -1.4883, -1.5484,  0.2884,\n",
      "           0.1280],\n",
      "         [ 1.4732, -1.0646, -0.3399,  0.0865, -0.3654, -1.4705,  0.1829,\n",
      "           1.4979],\n",
      "         [-1.6491,  0.3247,  0.7226,  1.8082, -0.4294, -0.8890,  0.5045,\n",
      "          -0.3926]]])\n",
      "out \n",
      " (torch.Size([5, 3, 8])) = \n",
      " tensor([[[-0.5230, -1.1462,  0.9470, -0.3730,  0.0860, -0.3283, -0.8090,\n",
      "           2.1464],\n",
      "         [ 0.6982, -1.1714,  0.9996, -1.5018, -0.9084, -0.0563,  1.2659,\n",
      "           0.6741],\n",
      "         [ 1.8480, -0.8749, -0.4711,  1.0203,  0.0870,  0.3730, -1.4626,\n",
      "          -0.5197]],\n",
      "\n",
      "        [[-0.1532,  0.5903,  1.4650, -0.1732, -0.5553, -0.6772,  1.2619,\n",
      "          -1.7585],\n",
      "         [ 0.2030,  0.7645, -1.0648, -1.7354,  1.0034,  0.5214, -0.8214,\n",
      "           1.1294],\n",
      "         [ 0.3999, -0.2381, -1.3415, -1.0424,  1.0787, -0.7593,  0.1310,\n",
      "           1.7718]],\n",
      "\n",
      "        [[-1.2303, -1.6334,  0.1093,  1.1738,  0.9284,  0.4354,  0.9310,\n",
      "          -0.7142],\n",
      "         [ 0.8629, -0.7208, -0.8956,  0.3293, -1.4585,  1.1252,  1.4143,\n",
      "          -0.6569],\n",
      "         [-1.1099,  0.9421,  1.0142, -0.0443,  1.6196, -0.4880, -1.2108,\n",
      "          -0.7229]],\n",
      "\n",
      "        [[ 0.3432, -0.1317,  0.7511,  0.4198,  0.0112,  1.5335, -1.9579,\n",
      "          -0.9692],\n",
      "         [ 0.8352,  0.0659,  1.4236, -1.8291,  1.0261, -0.7572, -0.4442,\n",
      "          -0.3202],\n",
      "         [ 1.4447,  0.8839, -1.9529,  0.4012,  0.1793, -1.0563,  0.0931,\n",
      "           0.0071]],\n",
      "\n",
      "        [[ 0.1007, -0.0136,  1.4519,  1.0813, -1.4883, -1.5484,  0.2884,\n",
      "           0.1280],\n",
      "         [ 1.4732, -1.0646, -0.3399,  0.0865, -0.3654, -1.4705,  0.1829,\n",
      "           1.4979],\n",
      "         [-1.6491,  0.3247,  0.7226,  1.8082, -0.4294, -0.8890,  0.5045,\n",
      "          -0.3926]]], grad_fn=<AddBackward0>)\n"
     ]
    }
   ],
   "source": [
    "out = layer_norm.forward(inputs)"
   ]
  },
  {
   "cell_type": "code",
   "execution_count": 28,
   "metadata": {
    "colab": {
     "base_uri": "https://localhost:8080/"
    },
    "id": "TSUGdHwL6yD2",
    "outputId": "e38f4032-4a80-477c-d0d7-ff64fe0b13e9"
   },
   "outputs": [
    {
     "data": {
      "text/plain": [
       "(tensor(0., grad_fn=<MeanBackward0>), tensor(1.0215, grad_fn=<StdBackward0>))"
      ]
     },
     "execution_count": 28,
     "metadata": {},
     "output_type": "execute_result"
    }
   ],
   "source": [
    "out[0].mean(), out[0].std()"
   ]
  },
  {
   "cell_type": "code",
   "execution_count": null,
   "metadata": {},
   "outputs": [],
   "source": []
  },
  {
   "cell_type": "code",
   "execution_count": null,
   "metadata": {},
   "outputs": [],
   "source": []
  }
 ],
 "metadata": {
  "colab": {
   "provenance": []
  },
  "kernelspec": {
   "display_name": "Python 3 (ipykernel)",
   "language": "python",
   "name": "python3"
  },
  "language_info": {
   "codemirror_mode": {
    "name": "ipython",
    "version": 3
   },
   "file_extension": ".py",
   "mimetype": "text/x-python",
   "name": "python",
   "nbconvert_exporter": "python",
   "pygments_lexer": "ipython3",
   "version": "3.9.13"
  }
 },
 "nbformat": 4,
 "nbformat_minor": 1
}
