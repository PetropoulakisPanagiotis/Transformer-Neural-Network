{
 "cells": [
  {
   "cell_type": "markdown",
   "metadata": {
    "id": "gO5Z0qErNuOt"
   },
   "source": [
    "# Self Attention in Transformers"
   ]
  },
  {
   "cell_type": "markdown",
   "metadata": {
    "id": "HedntyUvLrBo"
   },
   "source": [
    "## Generate Data"
   ]
  },
  {
   "cell_type": "code",
   "execution_count": 1,
   "metadata": {
    "id": "xtKbaWhFJui3"
   },
   "outputs": [],
   "source": [
    "import numpy as np\n",
    "import math\n",
    "\n",
    "L, d_k, d_v = 4, 8, 8 # L -> seq length \n",
    "q = np.random.randn(L, d_k)\n",
    "k = np.random.randn(L, d_k)\n",
    "v = np.random.randn(L, d_v)"
   ]
  },
  {
   "cell_type": "code",
   "execution_count": 2,
   "metadata": {
    "colab": {
     "base_uri": "https://localhost:8080/"
    },
    "id": "09JpvuNJ2sZC",
    "outputId": "30d2c627-8647-44e0-aa92-c9e53e3b7843"
   },
   "outputs": [
    {
     "name": "stdout",
     "output_type": "stream",
     "text": [
      "Q\n",
      " [[ 0.29768014  1.46816034 -1.32397561 -0.76432103  0.38979776 -0.49550435\n",
      "  -1.33092564 -1.72066063]\n",
      " [-0.05143646  1.38880016  0.79178977  1.58027136  0.00966491 -0.43574485\n",
      "  -0.87423673 -0.0353768 ]\n",
      " [ 1.07928344 -0.83696223 -0.25376834  1.12296124 -0.55213534 -0.32317013\n",
      "  -0.88158989  0.36128264]\n",
      " [ 0.85476158  0.24667341 -1.08318915 -0.92442848 -2.22248362  0.06401839\n",
      "  -0.44924721 -2.22433039]]\n",
      "K\n",
      " [[-0.09587018 -0.03241947 -0.8745195  -1.16439671  0.58552362 -0.90144685\n",
      "   0.31727494 -0.81312424]\n",
      " [ 0.380725    0.51069887 -0.54695683  1.68399384 -1.15499012 -0.17677576\n",
      "  -0.84175614 -0.71653484]\n",
      " [ 0.33919297  0.04711329  0.53569413 -2.11925621  0.69489994  0.17131378\n",
      "   0.31011484  0.98110667]\n",
      " [ 1.0598199  -0.22156219 -0.31718686  0.77735678 -0.8814225  -0.89105165\n",
      "  -1.21505333  0.91815065]]\n",
      "V\n",
      " [[-0.13140865  0.87150421  0.79974773  0.58881187  0.18071253  0.53201066\n",
      "  -1.55340947 -0.79907812]\n",
      " [-0.0704488  -1.49683304  0.31476469  0.06035425 -0.45877017 -0.54012935\n",
      "   0.53295522 -0.94728437]\n",
      " [ 0.57949884 -0.9241015   0.1039177  -0.09941098  0.0960839   0.13475285\n",
      "  -0.67270589 -0.21523799]\n",
      " [ 0.84545362 -1.50909078 -0.55514538 -0.82752848  1.00958179 -1.58334694\n",
      "   0.18172324 -0.00267494]]\n"
     ]
    }
   ],
   "source": [
    "print(\"Q\\n\", q)\n",
    "print(\"K\\n\", k)\n",
    "print(\"V\\n\", v)"
   ]
  },
  {
   "cell_type": "markdown",
   "metadata": {
    "id": "tV6txskBLwjh"
   },
   "source": [
    "## Self Attention\n",
    "\n",
    "$$\n",
    "\\text{self attention} = softmax\\bigg(\\frac{Q.K^T}{\\sqrt{d_k}}+M\\bigg)\n",
    "$$\n",
    "\n",
    "$$\n",
    "\\text{new V} = \\text{self attention}.V\n",
    "$$ "
   ]
  },
  {
   "cell_type": "code",
   "execution_count": 3,
   "metadata": {
    "colab": {
     "base_uri": "https://localhost:8080/"
    },
    "id": "x7GePHKk3Mh0",
    "outputId": "7dae7f5e-4715-4fd4-fbfd-7c0815e7d39e"
   },
   "outputs": [
    {
     "data": {
      "text/plain": [
       "array([[ 3.62342792,  2.29077639, -0.83422069, -0.04874055],\n",
       "       [-2.42273914,  3.74487703, -3.25061387,  2.02458568],\n",
       "       [-1.76742587,  3.19138627, -2.54711109,  4.46023516],\n",
       "       [ 2.24082459,  4.01472731, -2.17466666,  0.88169475]])"
      ]
     },
     "execution_count": 3,
     "metadata": {},
     "output_type": "execute_result"
    }
   ],
   "source": [
    "np.matmul(q, k.T)"
   ]
  },
  {
   "cell_type": "code",
   "execution_count": 4,
   "metadata": {
    "colab": {
     "base_uri": "https://localhost:8080/"
    },
    "id": "odK76OoI3nL2",
    "outputId": "69b50cdb-9a41-45ae-bfd2-619228af1ef7"
   },
   "outputs": [
    {
     "data": {
      "text/plain": [
       "(0.9860641577812217, 0.6872929635556801, 6.793918584341099)"
      ]
     },
     "execution_count": 4,
     "metadata": {},
     "output_type": "execute_result"
    }
   ],
   "source": [
    "# Why we need sqrt(d_k) in denominator\n",
    "q.var(), k.var(), np.matmul(q, k.T).var()"
   ]
  },
  {
   "cell_type": "code",
   "execution_count": 6,
   "metadata": {
    "colab": {
     "base_uri": "https://localhost:8080/"
    },
    "id": "0Ps6AY1Q3tRI",
    "outputId": "3b9ac3c8-70b8-47bd-e868-e7d6fd26d270"
   },
   "outputs": [
    {
     "data": {
      "text/plain": [
       "(0.9860641577812217, 0.6872929635556801, 0.8492398230426372)"
      ]
     },
     "execution_count": 6,
     "metadata": {},
     "output_type": "execute_result"
    }
   ],
   "source": [
    "scaled = np.matmul(q, k.T) / math.sqrt(d_k)\n",
    "q.var(), k.var(), scaled.var()"
   ]
  },
  {
   "cell_type": "markdown",
   "metadata": {
    "id": "ypO9IK1PL3cJ"
   },
   "source": [
    "Notice the reduction in variance of the product"
   ]
  },
  {
   "cell_type": "code",
   "execution_count": 7,
   "metadata": {
    "colab": {
     "base_uri": "https://localhost:8080/"
    },
    "id": "LVHAJR4N4VQX",
    "outputId": "52b06cf8-0381-453c-b576-0bd8de9a38b5"
   },
   "outputs": [
    {
     "data": {
      "text/plain": [
       "array([[ 1.28107523,  0.80991176, -0.29494155, -0.01723239],\n",
       "       [-0.85656764,  1.32401397, -1.14926555,  0.71579913],\n",
       "       [-0.62487941,  1.12832544, -0.90053976,  1.57693126],\n",
       "       [ 0.79225113,  1.41942045, -0.76886077,  0.31172617]])"
      ]
     },
     "execution_count": 7,
     "metadata": {},
     "output_type": "execute_result"
    }
   ],
   "source": [
    "scaled"
   ]
  },
  {
   "cell_type": "markdown",
   "metadata": {
    "id": "Dmz4v-RmMAaj"
   },
   "source": [
    "## Masking\n",
    "\n",
    "- This is to ensure words don't get context from words generated in the future. \n",
    "- Not required in the encoders, but required in the decoders"
   ]
  },
  {
   "cell_type": "code",
   "execution_count": 8,
   "metadata": {
    "colab": {
     "base_uri": "https://localhost:8080/"
    },
    "id": "e8N3OhSLILfG",
    "outputId": "2c63a444-066c-44b2-abe5-242dd989f311"
   },
   "outputs": [
    {
     "data": {
      "text/plain": [
       "array([[1., 0., 0., 0.],\n",
       "       [1., 1., 0., 0.],\n",
       "       [1., 1., 1., 0.],\n",
       "       [1., 1., 1., 1.]])"
      ]
     },
     "execution_count": 8,
     "metadata": {},
     "output_type": "execute_result"
    }
   ],
   "source": [
    "mask = np.tril(np.ones((L, L)))\n",
    "mask"
   ]
  },
  {
   "cell_type": "code",
   "execution_count": 9,
   "metadata": {
    "id": "hIV9K3Yn6s1V"
   },
   "outputs": [],
   "source": [
    "mask[mask == 0] = -np.infty\n",
    "mask[mask == 1] = 0"
   ]
  },
  {
   "cell_type": "code",
   "execution_count": 10,
   "metadata": {
    "colab": {
     "base_uri": "https://localhost:8080/"
    },
    "id": "LK5V_T3W6vpX",
    "outputId": "bb4160a1-a011-4850-e403-9cb252572c66"
   },
   "outputs": [
    {
     "data": {
      "text/plain": [
       "array([[  0., -inf, -inf, -inf],\n",
       "       [  0.,   0., -inf, -inf],\n",
       "       [  0.,   0.,   0., -inf],\n",
       "       [  0.,   0.,   0.,   0.]])"
      ]
     },
     "execution_count": 10,
     "metadata": {},
     "output_type": "execute_result"
    }
   ],
   "source": [
    "mask"
   ]
  },
  {
   "cell_type": "code",
   "execution_count": 12,
   "metadata": {
    "colab": {
     "base_uri": "https://localhost:8080/"
    },
    "id": "lNH1VgEf7xTa",
    "outputId": "4211c411-0356-4e39-8388-d39b0c1d0920"
   },
   "outputs": [
    {
     "data": {
      "text/plain": [
       "array([[ 1.28107523,        -inf,        -inf,        -inf],\n",
       "       [-0.85656764,  1.32401397,        -inf,        -inf],\n",
       "       [-0.62487941,  1.12832544, -0.90053976,        -inf],\n",
       "       [ 0.79225113,  1.41942045, -0.76886077,  0.31172617]])"
      ]
     },
     "execution_count": 12,
     "metadata": {},
     "output_type": "execute_result"
    }
   ],
   "source": [
    "tmp = scaled + mask\n",
    "tmp"
   ]
  },
  {
   "cell_type": "markdown",
   "metadata": {
    "id": "XMTAXjooN9eZ"
   },
   "source": [
    "## Softmax\n",
    "\n",
    "$$\n",
    "\\text{softmax} = \\frac{e^{x_i}}{\\sum_j e^x_j}\n",
    "$$"
   ]
  },
  {
   "cell_type": "code",
   "execution_count": 20,
   "metadata": {
    "id": "2R4gdRqj8W4Y"
   },
   "outputs": [
    {
     "name": "stdout",
     "output_type": "stream",
     "text": [
      "[[ 0.57408516 -1.25974421  1.34331652]\n",
      " [-0.05632317  0.09484248  0.24030093]]\n",
      "[[ 0.57408516 -0.05632317]\n",
      " [-1.25974421  0.09484248]\n",
      " [ 1.34331652  0.24030093]]\n",
      "[0.65765747 0.27882023]\n"
     ]
    }
   ],
   "source": [
    "def softmax(x):\n",
    "  return (np.exp(x).T / np.sum(np.exp(x), axis=-1)).T \n",
    "\n",
    "t = np.random.randn(2, 3)\n",
    "print(t)\n",
    "print(t.T)\n",
    "print(np.sum(t, -1))"
   ]
  },
  {
   "cell_type": "code",
   "execution_count": 29,
   "metadata": {
    "id": "K5eg2zPy41sP"
   },
   "outputs": [],
   "source": [
    "#attention = softmax(scaled)\n",
    "attention = softmax(scaled + mask)"
   ]
  },
  {
   "cell_type": "code",
   "execution_count": 30,
   "metadata": {
    "colab": {
     "base_uri": "https://localhost:8080/"
    },
    "id": "7sauNmfl-1TB",
    "outputId": "46b22beb-9034-4c7c-8d56-04209d2581c4"
   },
   "outputs": [
    {
     "data": {
      "text/plain": [
       "array([[1.        , 0.        , 0.        , 0.        ],\n",
       "       [0.10150787, 0.89849213, 0.        , 0.        ],\n",
       "       [0.1327643 , 0.76645822, 0.10077749, 0.        ],\n",
       "       [0.27022175, 0.50593704, 0.05672023, 0.16712098]])"
      ]
     },
     "execution_count": 30,
     "metadata": {},
     "output_type": "execute_result"
    }
   ],
   "source": [
    "attention"
   ]
  },
  {
   "cell_type": "code",
   "execution_count": 32,
   "metadata": {
    "colab": {
     "base_uri": "https://localhost:8080/"
    },
    "id": "BAy37go56LZo",
    "outputId": "78d97fa1-e0b3-4c1d-8294-bf0fdb77f199"
   },
   "outputs": [
    {
     "data": {
      "text/plain": [
       "array([[-0.13140865,  0.87150421,  0.79974773,  0.58881187,  0.18071253,\n",
       "         0.53201066, -1.55340947, -0.79907812],\n",
       "       [-0.0766367 , -1.25642817,  0.36399429,  0.11399686, -0.39385764,\n",
       "        -0.4312987 ,  0.32117278, -0.93224027],\n",
       "       [-0.013042  , -1.12468397,  0.35790449,  0.11441382, -0.3179529 ,\n",
       "        -0.3297745 ,  0.13445699, -0.85383407],\n",
       "       [ 0.10301021, -0.82641986,  0.28847815,  0.04570925, -0.00910417,\n",
       "        -0.38647786, -0.15790951, -0.70784992]])"
      ]
     },
     "execution_count": 32,
     "metadata": {},
     "output_type": "execute_result"
    }
   ],
   "source": [
    "new_v = np.matmul(attention, v)\n",
    "new_v"
   ]
  },
  {
   "cell_type": "code",
   "execution_count": 33,
   "metadata": {
    "colab": {
     "base_uri": "https://localhost:8080/"
    },
    "id": "vCP2aZOU9VrT",
    "outputId": "e1fe2137-cd95-4a4b-fa1a-3ec21c38104c"
   },
   "outputs": [
    {
     "data": {
      "text/plain": [
       "array([[-0.13140865,  0.87150421,  0.79974773,  0.58881187,  0.18071253,\n",
       "         0.53201066, -1.55340947, -0.79907812],\n",
       "       [-0.0704488 , -1.49683304,  0.31476469,  0.06035425, -0.45877017,\n",
       "        -0.54012935,  0.53295522, -0.94728437],\n",
       "       [ 0.57949884, -0.9241015 ,  0.1039177 , -0.09941098,  0.0960839 ,\n",
       "         0.13475285, -0.67270589, -0.21523799],\n",
       "       [ 0.84545362, -1.50909078, -0.55514538, -0.82752848,  1.00958179,\n",
       "        -1.58334694,  0.18172324, -0.00267494]])"
      ]
     },
     "execution_count": 33,
     "metadata": {},
     "output_type": "execute_result"
    }
   ],
   "source": [
    "v"
   ]
  },
  {
   "cell_type": "markdown",
   "metadata": {
    "id": "nSiJuBQELFHT"
   },
   "source": [
    "# Function"
   ]
  },
  {
   "cell_type": "code",
   "execution_count": 34,
   "metadata": {
    "id": "XvTnmdcB_jdq"
   },
   "outputs": [],
   "source": [
    "def softmax(x):\n",
    "    return (np.exp(x).T / np.sum(np.exp(x), axis=-1)).T\n",
    " \n",
    "def scaled_dot_product_attention(q, k, v, mask=None):\n",
    "    d_k = q.shape[-1]\n",
    "\n",
    "    scaled = np.matmul(q, k.T) / math.sqrt(d_k)\n",
    "    \n",
    "    if mask is not None:\n",
    "        scaled = scaled + mask\n",
    "    \n",
    "    attention = softmax(scaled)\n",
    "\n",
    "    out = np.matmul(attention, v)\n",
    "    \n",
    "    return out, attention"
   ]
  },
  {
   "cell_type": "code",
   "execution_count": 35,
   "metadata": {
    "colab": {
     "base_uri": "https://localhost:8080/"
    },
    "id": "KSxLkZdiSLMT",
    "outputId": "ca70508d-fb6e-4eec-acb6-7a89a60dffa8"
   },
   "outputs": [
    {
     "name": "stdout",
     "output_type": "stream",
     "text": [
      "Q\n",
      " [[ 0.29768014  1.46816034 -1.32397561 -0.76432103  0.38979776 -0.49550435\n",
      "  -1.33092564 -1.72066063]\n",
      " [-0.05143646  1.38880016  0.79178977  1.58027136  0.00966491 -0.43574485\n",
      "  -0.87423673 -0.0353768 ]\n",
      " [ 1.07928344 -0.83696223 -0.25376834  1.12296124 -0.55213534 -0.32317013\n",
      "  -0.88158989  0.36128264]\n",
      " [ 0.85476158  0.24667341 -1.08318915 -0.92442848 -2.22248362  0.06401839\n",
      "  -0.44924721 -2.22433039]]\n",
      "K\n",
      " [[-0.09587018 -0.03241947 -0.8745195  -1.16439671  0.58552362 -0.90144685\n",
      "   0.31727494 -0.81312424]\n",
      " [ 0.380725    0.51069887 -0.54695683  1.68399384 -1.15499012 -0.17677576\n",
      "  -0.84175614 -0.71653484]\n",
      " [ 0.33919297  0.04711329  0.53569413 -2.11925621  0.69489994  0.17131378\n",
      "   0.31011484  0.98110667]\n",
      " [ 1.0598199  -0.22156219 -0.31718686  0.77735678 -0.8814225  -0.89105165\n",
      "  -1.21505333  0.91815065]]\n",
      "V\n",
      " [[-0.13140865  0.87150421  0.79974773  0.58881187  0.18071253  0.53201066\n",
      "  -1.55340947 -0.79907812]\n",
      " [-0.0704488  -1.49683304  0.31476469  0.06035425 -0.45877017 -0.54012935\n",
      "   0.53295522 -0.94728437]\n",
      " [ 0.57949884 -0.9241015   0.1039177  -0.09941098  0.0960839   0.13475285\n",
      "  -0.67270589 -0.21523799]\n",
      " [ 0.84545362 -1.50909078 -0.55514538 -0.82752848  1.00958179 -1.58334694\n",
      "   0.18172324 -0.00267494]]\n",
      "New V\n",
      " [[-0.13140865  0.87150421  0.79974773  0.58881187  0.18071253  0.53201066\n",
      "  -1.55340947 -0.79907812]\n",
      " [-0.0766367  -1.25642817  0.36399429  0.11399686 -0.39385764 -0.4312987\n",
      "   0.32117278 -0.93224027]\n",
      " [-0.013042   -1.12468397  0.35790449  0.11441382 -0.3179529  -0.3297745\n",
      "   0.13445699 -0.85383407]\n",
      " [ 0.10301021 -0.82641986  0.28847815  0.04570925 -0.00910417 -0.38647786\n",
      "  -0.15790951 -0.70784992]]\n",
      "Attention\n",
      " [[1.         0.         0.         0.        ]\n",
      " [0.10150787 0.89849213 0.         0.        ]\n",
      " [0.1327643  0.76645822 0.10077749 0.        ]\n",
      " [0.27022175 0.50593704 0.05672023 0.16712098]]\n"
     ]
    }
   ],
   "source": [
    "values, attention = scaled_dot_product_attention(q, k, v, mask=mask)\n",
    "print(\"Q\\n\", q)\n",
    "print(\"K\\n\", k)\n",
    "print(\"V\\n\", v)\n",
    "print(\"New V\\n\", values)\n",
    "print(\"Attention\\n\", attention)"
   ]
  },
  {
   "cell_type": "code",
   "execution_count": null,
   "metadata": {
    "id": "-HtQQtB2LJus"
   },
   "outputs": [],
   "source": []
  }
 ],
 "metadata": {
  "colab": {
   "provenance": []
  },
  "kernelspec": {
   "display_name": "Python 3 (ipykernel)",
   "language": "python",
   "name": "python3"
  },
  "language_info": {
   "codemirror_mode": {
    "name": "ipython",
    "version": 3
   },
   "file_extension": ".py",
   "mimetype": "text/x-python",
   "name": "python",
   "nbconvert_exporter": "python",
   "pygments_lexer": "ipython3",
   "version": "3.9.13"
  }
 },
 "nbformat": 4,
 "nbformat_minor": 1
}
